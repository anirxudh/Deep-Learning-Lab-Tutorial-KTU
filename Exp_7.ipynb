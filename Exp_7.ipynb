{
  "nbformat": 4,
  "nbformat_minor": 0,
  "metadata": {
    "colab": {
      "provenance": [],
      "gpuType": "T4",
      "authorship_tag": "ABX9TyP32SUZFgkxtSdhyhfv3VGG",
      "include_colab_link": true
    },
    "kernelspec": {
      "name": "python3",
      "display_name": "Python 3"
    },
    "language_info": {
      "name": "python"
    },
    "accelerator": "GPU"
  },
  "cells": [
    {
      "cell_type": "markdown",
      "metadata": {
        "id": "view-in-github",
        "colab_type": "text"
      },
      "source": [
        "<a href=\"https://colab.research.google.com/github/anirxudh/Deep-Learning-Lab-Tutorial-KTU/blob/main/Exp_7.ipynb\" target=\"_parent\"><img src=\"https://colab.research.google.com/assets/colab-badge.svg\" alt=\"Open In Colab\"/></a>"
      ]
    },
    {
      "cell_type": "markdown",
      "source": [
        "# EXPERIMENT NO 7\n",
        "## Anirudh S Nair\n",
        "### IMDB analysis using RNN"
      ],
      "metadata": {
        "id": "iyc65tj1HplM"
      }
    },
    {
      "cell_type": "markdown",
      "source": [
        "# Import Libraries"
      ],
      "metadata": {
        "id": "LYZu16WFH6nS"
      }
    },
    {
      "cell_type": "code",
      "execution_count": 5,
      "metadata": {
        "id": "DRVe4LdV8nvO"
      },
      "outputs": [],
      "source": [
        "import tensorflow as tf\n",
        "import numpy as np\n",
        "import matplotlib.pyplot as plt\n",
        "from tensorflow.keras import models, layers, datasets\n",
        "from tensorflow.keras.preprocessing.sequence import pad_sequences"
      ]
    },
    {
      "cell_type": "markdown",
      "source": [
        "# Data Loading and Preprocessing"
      ],
      "metadata": {
        "id": "07e0CkZzH-Tn"
      }
    },
    {
      "cell_type": "code",
      "source": [
        "n=10000\n",
        "(x_train, y_train), (x_test, y_test) = datasets.imdb.load_data(num_words=n)\n",
        "max_len=500\n",
        "x_train=pad_sequences(x_train, maxlen=max_len)\n",
        "x_test=pad_sequences(x_test, maxlen=max_len)"
      ],
      "metadata": {
        "id": "d0hpu3sB_665"
      },
      "execution_count": 8,
      "outputs": []
    },
    {
      "cell_type": "markdown",
      "source": [
        "# Model Building and Compiling"
      ],
      "metadata": {
        "id": "T_UII-LTIFFM"
      }
    },
    {
      "cell_type": "code",
      "source": [
        "model=models.Sequential([\n",
        "    layers.Embedding(input_dim=n, output_dim=32, input_length=max_len),\n",
        "    layers.SimpleRNN(32),\n",
        "    layers.Dense(1, activation='sigmoid')\n",
        "])"
      ],
      "metadata": {
        "colab": {
          "base_uri": "https://localhost:8080/"
        },
        "id": "kgV-3EkGAsfo",
        "outputId": "57655468-dadd-4dda-9e68-9c4d1ba089d1"
      },
      "execution_count": 10,
      "outputs": [
        {
          "output_type": "stream",
          "name": "stderr",
          "text": [
            "/usr/local/lib/python3.10/dist-packages/keras/src/layers/core/embedding.py:90: UserWarning: Argument `input_length` is deprecated. Just remove it.\n",
            "  warnings.warn(\n"
          ]
        }
      ]
    },
    {
      "cell_type": "code",
      "source": [
        "model.compile(optimizer='adam', loss='binary_crossentropy', metrics=['accuracy'])"
      ],
      "metadata": {
        "id": "igh8CdTAB3Ik"
      },
      "execution_count": 13,
      "outputs": []
    },
    {
      "cell_type": "markdown",
      "source": [
        "# Model Fitting"
      ],
      "metadata": {
        "id": "W3V7J0DkIO1c"
      }
    },
    {
      "cell_type": "code",
      "source": [
        "r=model.fit(x_train, y_train, epochs=10, validation_data=(x_test, y_test))"
      ],
      "metadata": {
        "colab": {
          "base_uri": "https://localhost:8080/"
        },
        "id": "Z3zyXaGvBg7H",
        "outputId": "3a3f9813-3dae-4e95-8a56-b8e253742b4a"
      },
      "execution_count": 14,
      "outputs": [
        {
          "output_type": "stream",
          "name": "stdout",
          "text": [
            "Epoch 1/10\n",
            "\u001b[1m782/782\u001b[0m \u001b[32m━━━━━━━━━━━━━━━━━━━━\u001b[0m\u001b[37m\u001b[0m \u001b[1m121s\u001b[0m 152ms/step - accuracy: 0.5945 - loss: 0.6463 - val_accuracy: 0.7434 - val_loss: 0.5465\n",
            "Epoch 2/10\n",
            "\u001b[1m782/782\u001b[0m \u001b[32m━━━━━━━━━━━━━━━━━━━━\u001b[0m\u001b[37m\u001b[0m \u001b[1m130s\u001b[0m 136ms/step - accuracy: 0.8379 - loss: 0.3857 - val_accuracy: 0.7462 - val_loss: 0.5165\n",
            "Epoch 3/10\n",
            "\u001b[1m782/782\u001b[0m \u001b[32m━━━━━━━━━━━━━━━━━━━━\u001b[0m\u001b[37m\u001b[0m \u001b[1m139s\u001b[0m 133ms/step - accuracy: 0.8505 - loss: 0.3532 - val_accuracy: 0.8238 - val_loss: 0.3978\n",
            "Epoch 4/10\n",
            "\u001b[1m782/782\u001b[0m \u001b[32m━━━━━━━━━━━━━━━━━━━━\u001b[0m\u001b[37m\u001b[0m \u001b[1m142s\u001b[0m 133ms/step - accuracy: 0.9198 - loss: 0.2111 - val_accuracy: 0.6381 - val_loss: 0.6347\n",
            "Epoch 5/10\n",
            "\u001b[1m782/782\u001b[0m \u001b[32m━━━━━━━━━━━━━━━━━━━━\u001b[0m\u001b[37m\u001b[0m \u001b[1m146s\u001b[0m 138ms/step - accuracy: 0.7638 - loss: 0.4795 - val_accuracy: 0.6769 - val_loss: 0.6075\n",
            "Epoch 6/10\n",
            "\u001b[1m782/782\u001b[0m \u001b[32m━━━━━━━━━━━━━━━━━━━━\u001b[0m\u001b[37m\u001b[0m \u001b[1m139s\u001b[0m 134ms/step - accuracy: 0.8302 - loss: 0.3810 - val_accuracy: 0.7065 - val_loss: 0.6110\n",
            "Epoch 7/10\n",
            "\u001b[1m782/782\u001b[0m \u001b[32m━━━━━━━━━━━━━━━━━━━━\u001b[0m\u001b[37m\u001b[0m \u001b[1m106s\u001b[0m 136ms/step - accuracy: 0.8832 - loss: 0.2822 - val_accuracy: 0.6717 - val_loss: 0.6635\n",
            "Epoch 8/10\n",
            "\u001b[1m782/782\u001b[0m \u001b[32m━━━━━━━━━━━━━━━━━━━━\u001b[0m\u001b[37m\u001b[0m \u001b[1m142s\u001b[0m 135ms/step - accuracy: 0.9067 - loss: 0.2328 - val_accuracy: 0.7540 - val_loss: 0.6446\n",
            "Epoch 9/10\n",
            "\u001b[1m782/782\u001b[0m \u001b[32m━━━━━━━━━━━━━━━━━━━━\u001b[0m\u001b[37m\u001b[0m \u001b[1m142s\u001b[0m 136ms/step - accuracy: 0.9320 - loss: 0.1779 - val_accuracy: 0.7785 - val_loss: 0.5825\n",
            "Epoch 10/10\n",
            "\u001b[1m782/782\u001b[0m \u001b[32m━━━━━━━━━━━━━━━━━━━━\u001b[0m\u001b[37m\u001b[0m \u001b[1m107s\u001b[0m 137ms/step - accuracy: 0.9447 - loss: 0.1531 - val_accuracy: 0.7728 - val_loss: 0.6553\n"
          ]
        }
      ]
    },
    {
      "cell_type": "markdown",
      "source": [
        "# Plotting"
      ],
      "metadata": {
        "id": "24FOnkrVIRC6"
      }
    },
    {
      "cell_type": "code",
      "source": [
        "plt.subplot(1,2,1)\n",
        "plt.plot(r.history['accuracy'], label='RNN Traning Accuracy')\n",
        "plt.plot(r.history['val_accuracy'], label='RNN Validation Accuracy')\n",
        "plt.legend()\n",
        "plt.show()"
      ],
      "metadata": {
        "colab": {
          "base_uri": "https://localhost:8080/",
          "height": 430
        },
        "id": "QntHIajVBuse",
        "outputId": "9ae631bf-4bc0-4e98-97ac-a44a55cfe892"
      },
      "execution_count": 18,
      "outputs": [
        {
          "output_type": "display_data",
          "data": {
            "text/plain": [
              "<Figure size 640x480 with 1 Axes>"
            ],
            "image/png": "[encoded data removed]"
          },
          "metadata": {}
        }
      ]
    },
    {
      "cell_type": "markdown",
      "source": [
        "# Checking Predictions\n",
        "### This is done to check our models performance(value comparison) and not the actual model prediction check"
      ],
      "metadata": {
        "id": "wUfWyEAqJP1S"
      }
    },
    {
      "cell_type": "code",
      "source": [
        "predict=model.predict(x_test)"
      ],
      "metadata": {
        "colab": {
          "base_uri": "https://localhost:8080/"
        },
        "id": "AOYCGvijIfqX",
        "outputId": "ccf7bfbe-9799-4ae9-fb73-222aa9a26613"
      },
      "execution_count": 20,
      "outputs": [
        {
          "output_type": "stream",
          "name": "stdout",
          "text": [
            "\u001b[1m782/782\u001b[0m \u001b[32m━━━━━━━━━━━━━━━━━━━━\u001b[0m\u001b[37m\u001b[0m \u001b[1m20s\u001b[0m 25ms/step\n"
          ]
        }
      ]
    },
    {
      "cell_type": "code",
      "source": [
        "print(x_test[1])"
      ],
      "metadata": {
        "colab": {
          "base_uri": "https://localhost:8080/"
        },
        "id": "rSuF4HDyIowN",
        "outputId": "a6276122-e347-474c-888f-9dffd79da717"
      },
      "execution_count": 21,
      "outputs": [
        {
          "output_type": "stream",
          "name": "stdout",
          "text": [
            "[   0    0    0    0    0    0    0    0    0    0    0    0    0    0\n",
            "    0    0    0    0    0    0    0    0    0    0    0    0    0    0\n",
            "    0    0    0    0    0    0    0    0    0    0    0    0    0    0\n",
            "    0    0    0    0    0    0    0    0    0    0    0    0    0    0\n",
            "    0    0    0    0    0    0    0    0    0    0    0    0    0    0\n",
            "    0    0    0    0    0    0    0    0    0    0    0    0    0    0\n",
            "    0    0    0    0    0    0    0    0    0    0    0    0    0    0\n",
            "    0    0    0    0    0    0    0    0    0    0    0    0    0    0\n",
            "    0    0    0    0    0    0    0    0    0    0    0    0    0    0\n",
            "    0    0    0    0    0    0    0    0    0    0    0    0    0    0\n",
            "    0    0    0    0    0    0    0    0    0    0    0    0    0    0\n",
            "    0    0    0    0    0    0    0    0    0    0    0    0    0    0\n",
            "    0    0    0    0    0    0    0    0    0    0    0    0    0    0\n",
            "    0    0    0    0    0    0    0    0    0    0    0    0    0    0\n",
            "    0    0    0    0    0    0    0    0    0    0    0    0    0    0\n",
            "    0    0    0    0    0    0    0    0    0    0    0    0    0    0\n",
            "    0    0    0    0    0    0    0    0    0    0    0    0    0    0\n",
            "    0    0    1   14   22 3443    6  176    7 5063   88   12 2679   23\n",
            " 1310    5  109  943    4  114    9   55  606    5  111    7    4  139\n",
            "  193  273   23    4  172  270   11 7216    2    4 8463 2801  109 1603\n",
            "   21    4   22 3861    8    6 1193 1330   10   10    4  105  987   35\n",
            "  841    2   19  861 1074    5 1987    2   45   55  221   15  670 5304\n",
            "  526   14 1069    4  405    5 2438    7   27   85  108  131    4 5045\n",
            " 5304 3884  405    9 3523  133    5   50   13  104   51   66  166   14\n",
            "   22  157    9    4  530  239   34 8463 2801   45  407   31    7   41\n",
            " 3778  105   21   59  299   12   38  950    5 4521   15   45  629  488\n",
            " 2733  127    6   52  292   17    4 6936  185  132 1988 5304 1799  488\n",
            " 2693   47    6  392  173    4    2 4378  270 2352    4 1500    7    4\n",
            "   65   55   73   11  346   14   20    9    6  976 2078    7 5293  861\n",
            "    2    5 4182   30 3127    2   56    4  841    5  990  692    8    4\n",
            " 1669  398  229   10   10   13 2822  670 5304   14    9   31    7   27\n",
            "  111  108   15 2033   19 7836 1429  875  551   14   22    9 1193   21\n",
            "   45 4829    5   45  252    8    2    6  565  921 3639   39    4  529\n",
            "   48   25  181    8   67   35 1732   22   49  238   60  135 1162   14\n",
            "    9  290    4   58   10   10  472   45   55  878    8  169   11  374\n",
            " 5687   25  203   28    8  818   12  125    4 3077]\n"
          ]
        }
      ]
    },
    {
      "cell_type": "code",
      "source": [
        "print(y_test[1])"
      ],
      "metadata": {
        "colab": {
          "base_uri": "https://localhost:8080/"
        },
        "id": "PgC5aJguI0oq",
        "outputId": "c02a7ed2-273e-4202-a595-1f48cbda75ee"
      },
      "execution_count": 22,
      "outputs": [
        {
          "output_type": "stream",
          "name": "stdout",
          "text": [
            "1\n"
          ]
        }
      ]
    },
    {
      "cell_type": "code",
      "source": [
        "print(predict[1])"
      ],
      "metadata": {
        "colab": {
          "base_uri": "https://localhost:8080/"
        },
        "id": "Rc2Y5xdKIuk-",
        "outputId": "a40b6c22-1443-4b56-a8c5-9b2837cdf028"
      },
      "execution_count": 23,
      "outputs": [
        {
          "output_type": "stream",
          "name": "stdout",
          "text": [
            "[0.99956244]\n"
          ]
        }
      ]
    },
    {
      "cell_type": "code",
      "source": [
        "print(y_test[201])"
      ],
      "metadata": {
        "colab": {
          "base_uri": "https://localhost:8080/"
        },
        "id": "16-pgRkcJ3ti",
        "outputId": "fcc526bf-31c0-49de-8a5e-0c8bb1bcc2f4"
      },
      "execution_count": 27,
      "outputs": [
        {
          "output_type": "stream",
          "name": "stdout",
          "text": [
            "0\n"
          ]
        }
      ]
    },
    {
      "cell_type": "code",
      "source": [
        "print(predict[201])"
      ],
      "metadata": {
        "colab": {
          "base_uri": "https://localhost:8080/"
        },
        "id": "rHBK2YbsJ-mw",
        "outputId": "2615a3b2-a8df-4b36-d89e-37b4a4ce558d"
      },
      "execution_count": 28,
      "outputs": [
        {
          "output_type": "stream",
          "name": "stdout",
          "text": [
            "[0.03663073]\n"
          ]
        }
      ]
    },
    {
      "cell_type": "markdown",
      "source": [
        "#### We can see that the values are very close and hence evaluting our RNN model's Sentiment analysis capability"
      ],
      "metadata": {
        "id": "mfAqOX1gJsa9"
      }
    },
    {
      "cell_type": "code",
      "source": [],
      "metadata": {
        "id": "9UYUm55qKOKm"
      },
      "execution_count": null,
      "outputs": []
    }
  ]
}
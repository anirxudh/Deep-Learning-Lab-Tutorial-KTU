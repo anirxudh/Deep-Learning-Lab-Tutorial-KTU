{
  "nbformat": 4,
  "nbformat_minor": 0,
  "metadata": {
    "colab": {
      "provenance": [],
      "authorship_tag": "ABX9TyOltTI+F1SCrFu4SLFCs+6z",
      "include_colab_link": true
    },
    "kernelspec": {
      "name": "python3",
      "display_name": "Python 3"
    },
    "language_info": {
      "name": "python"
    }
  },
  "cells": [
    {
      "cell_type": "markdown",
      "metadata": {
        "id": "view-in-github",
        "colab_type": "text"
      },
      "source": [
        "<a href=\"https://colab.research.google.com/github/anirxudh/Deep-Learning-Lab-Tutorial-KTU/blob/main/Exp2.ipynb\" target=\"_parent\"><img src=\"https://colab.research.google.com/assets/colab-badge.svg\" alt=\"Open In Colab\"/></a>"
      ]
    },
    {
      "cell_type": "markdown",
      "source": [
        "# EXPERIMENT NO 2\n",
        "## Anirudh S Nair\n",
        "### Outlier detection"
      ],
      "metadata": {
        "id": "IUah-qpe5anG"
      }
    },
    {
      "cell_type": "markdown",
      "source": [
        "# 1. Boxplotting method"
      ],
      "metadata": {
        "id": "pc-c5uaZ5ktx"
      }
    },
    {
      "cell_type": "code",
      "execution_count": 11,
      "metadata": {
        "colab": {
          "base_uri": "https://localhost:8080/",
          "height": 489
        },
        "id": "F1vIfIVQ2JNn",
        "outputId": "2bbcdbfc-febd-4f85-e137-da4496462105"
      },
      "outputs": [
        {
          "output_type": "execute_result",
          "data": {
            "text/plain": [
              "Text(0.5, 1.0, ' Outlier in the sample')"
            ]
          },
          "metadata": {},
          "execution_count": 11
        },
        {
          "output_type": "display_data",
          "data": {
            "text/plain": [
              "<Figure size 640x480 with 1 Axes>"
            ],
            "image/png": "[encoded data removed]"
          },
          "metadata": {}
        }
      ],
      "source": [
        "import matplotlib.pyplot as plt\n",
        "s=[1,2,2,2,2,3,4,1,1,15,2,2,23,3,1,2]\n",
        "plt.boxplot(s)\n",
        "plt.xlabel('outlier')\n",
        "plt.ylabel('sample')\n",
        "plt.title(' Outlier in the sample')"
      ]
    },
    {
      "cell_type": "markdown",
      "source": [
        "# 2. Z-score method"
      ],
      "metadata": {
        "id": "a10ztAgI5pYJ"
      }
    },
    {
      "cell_type": "code",
      "source": [
        "import numpy as np"
      ],
      "metadata": {
        "id": "Ijd5NPF22RPq"
      },
      "execution_count": 7,
      "outputs": []
    },
    {
      "cell_type": "code",
      "source": [
        "m=np.mean(s)\n",
        "d=np.std(s)\n",
        "t=3\n",
        "o=[]\n",
        "print(f\" mean: {m} \\n standard deviation: {d} \")\n",
        "for i in s:\n",
        "  z=(i-m)/d\n",
        "  if z > t:\n",
        "    o.append(i)\n",
        "\n",
        "print(' outlier is ', o)"
      ],
      "metadata": {
        "colab": {
          "base_uri": "https://localhost:8080/"
        },
        "id": "xljhk3vg27_t",
        "outputId": "047d24de-14a1-4629-b739-8b8cdb34ff2a"
      },
      "execution_count": 12,
      "outputs": [
        {
          "output_type": "stream",
          "name": "stdout",
          "text": [
            " mean: 4.125 \n",
            " standard deviation: 5.851014869234225 \n",
            " outlier is  [23]\n"
          ]
        }
      ]
    },
    {
      "cell_type": "markdown",
      "source": [
        "# 3. Interquartile range method"
      ],
      "metadata": {
        "id": "ZbWk_33V5u3p"
      }
    },
    {
      "cell_type": "code",
      "source": [
        "s=np.sort(s)"
      ],
      "metadata": {
        "id": "hFGbvzUj3lMN"
      },
      "execution_count": 13,
      "outputs": []
    },
    {
      "cell_type": "code",
      "source": [
        "q1=np.percentile(s, 25, method='midpoint')\n",
        "q2=np.percentile(s, 50, method='midpoint')\n",
        "q3=np.percentile(s, 75, method='midpoint')"
      ],
      "metadata": {
        "id": "tyTWYity4JvU"
      },
      "execution_count": 14,
      "outputs": []
    },
    {
      "cell_type": "code",
      "source": [
        "iqr=q3-q1\n",
        "print(\"interquartile range is \", iqr)\n",
        "u_lim=q3+1.5*iqr\n",
        "l_lim=q1-1.5*iqr\n",
        "print(\"upper limit: \", u_lim)\n",
        "print(\"lower limit: \", l_lim)\n",
        "o=[]\n",
        "for i in s:\n",
        "  if i<l_lim or i>u_lim:\n",
        "    o.append(i)\n",
        "print(\"outlier is \", o)"
      ],
      "metadata": {
        "colab": {
          "base_uri": "https://localhost:8080/"
        },
        "id": "jBVzYNFN4l5-",
        "outputId": "db2a0f9e-23e4-41de-dbdd-1a89af4fec4c"
      },
      "execution_count": 15,
      "outputs": [
        {
          "output_type": "stream",
          "name": "stdout",
          "text": [
            "interquartile range is  1.5\n",
            "upper limit:  5.25\n",
            "lower limit:  -0.75\n",
            "outlier is  [15, 23]\n"
          ]
        }
      ]
    }
  ]
}